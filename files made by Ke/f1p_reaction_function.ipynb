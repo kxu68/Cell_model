{
 "cells": [
  {
   "cell_type": "code",
   "execution_count": 31,
   "id": "460f52ea",
   "metadata": {},
   "outputs": [],
   "source": [
    "# f1p reactions\n",
    "#change it into function\n",
    "#does not need to readd biomass reaction\n",
    "#need to add prefix M/R in the string for the reaction?\n",
    "#do i also need to import the stuff?\n",
    "# import cobra\n",
    "# from cobra import Model, Reaction, Metabolite\n",
    "# model= cobra.io.read_sbml_model('iML1515.xml')\n",
    "# globals().clear()\n",
    "# global model\n",
    "def f1p_reaction(model):\n",
    "    import cobra\n",
    "    from cobra import Model, Reaction, Metabolite \n",
    "#     model= cobra.io.read_sbml_model('iML1515.xml')\n",
    "#     get the existing metabolites or creat new ones in the model\n",
    "    M_atp = model.metabolites.get_by_id(\"atp_c\")\n",
    "    M_fru = model.metabolites.get_by_id(\"fru_c\")\n",
    "    M_adp = model.metabolites.get_by_id(\"adp_c\")\n",
    "    M_f1p = model.metabolites.get_by_id(\"f1p_c\")\n",
    "    M_h = model.metabolites.get_by_id(\"h_c\")\n",
    "    #   crea\n",
    "    R_biomass = model.reactions.get_by_id(\"BIOMASS_Ec_iML1515_WT_75p37M\")\n",
    "    R_biomass.add_metabolites(\n",
    "#     Reaction(\"BIOMASS_Ec_iML1515_WT_75p37M\").add_metabolites(\n",
    "        {\n",
    "            M_f1p: 0.000343358096\n",
    "        }\n",
    "    )\n",
    "    \n",
    "    R_khk = Reaction(\"KHK\")\n",
    "    R_khk.name = \"Ketohexokinase\"\n",
    "    R_khk.add_metabolites(\n",
    "        {\n",
    "            M_adp: 1.0,\n",
    "            M_atp: -1.0,\n",
    "            M_f1p: 1.0,\n",
    "            M_fru: -1.0,\n",
    "            M_h: 1.0\n",
    "        }\n",
    "    )\n",
    "#     Reaction(\"BIOMASS_Ec_iML1515_WT_75p37M\").add_metabolites(\n",
    "#         {\n",
    "#             M_f1p: 0.000343358096\n",
    "#         }\n",
    "#     )\n",
    "    model.add_reactions(\n",
    "        [R_khk]\n",
    "        )\n",
    "#     model.repair(rebuild_index=True, rebuild_relationships=True) \n",
    "#     cobra.io.sbml.write_sbml_model(model,'iML1515_f1p_reaction.xml')\n",
    "    return(model)\n",
    "#     model=cobra.io.read_sbml_model('iML1515_f1p_reaction.xml')\n",
    "#     cobra.io.save_json_model(model, 'iml1515_f1p_reaction.json')\n",
    "#     model.optimize().objective_value"
   ]
  },
  {
   "cell_type": "code",
   "execution_count": 32,
   "id": "0b73702b",
   "metadata": {},
   "outputs": [],
   "source": [
    "# import cobra\n",
    "# from cobra import Model, Reaction, Metabolite\n",
    "# model= cobra.io.read_sbml_model('iML1515.xml')\n",
    "# xx=f1p_reaction(model)"
   ]
  },
  {
   "cell_type": "code",
   "execution_count": null,
   "id": "da1f36a9",
   "metadata": {},
   "outputs": [],
   "source": []
  },
  {
   "cell_type": "code",
   "execution_count": 33,
   "id": "ee7d4d36",
   "metadata": {},
   "outputs": [],
   "source": [
    "# f1p=f1p_reaction(model)"
   ]
  },
  {
   "cell_type": "code",
   "execution_count": 34,
   "id": "f7e61564",
   "metadata": {},
   "outputs": [],
   "source": [
    "# print(f1p)"
   ]
  },
  {
   "cell_type": "code",
   "execution_count": null,
   "id": "e120e2b0",
   "metadata": {},
   "outputs": [],
   "source": []
  }
 ],
 "metadata": {
  "kernelspec": {
   "display_name": "Python 3",
   "language": "python",
   "name": "python3"
  },
  "language_info": {
   "codemirror_mode": {
    "name": "ipython",
    "version": 3
   },
   "file_extension": ".py",
   "mimetype": "text/x-python",
   "name": "python",
   "nbconvert_exporter": "python",
   "pygments_lexer": "ipython3",
   "version": "3.8.8"
  }
 },
 "nbformat": 4,
 "nbformat_minor": 5
}
