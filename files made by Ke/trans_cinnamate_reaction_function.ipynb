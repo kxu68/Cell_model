{
 "cells": [
  {
   "cell_type": "code",
   "execution_count": null,
   "id": "0a735e0e",
   "metadata": {},
   "outputs": [],
   "source": [
    "# trans-Cinnamate (cinnm) reaction\n",
    "\n",
    "# EC Number 4.3.1.25 https://biocyc.org/META/NEW-IMAGE?type=REACTION&object=PHENYLALANINE-AMMONIA-LYASE-RXN\n",
    "def trans_cinnamate_reaction(model):\n",
    "    import cobra\n",
    "    from cobra import Model, Reaction, Metabolite\n",
    "# add metabolites\n",
    "# \n",
    "    M_phe__L = model.metabolites.get_by_id(\"phe__L_c\")\n",
    "    M_cinnm = model.metabolites.get_by_id(\"cinnm_c\")\n",
    "    M_nh4 = model.metabolites.get_by_id(\"nh4_c\")\n",
    "# add metabolite to biomass    \n",
    "#     \n",
    "    R_biomass = model.reactions.get_by_id(\"BIOMASS_Ec_iML1515_WT_75p37M\")\n",
    "    R_biomass.add_metabolites(\n",
    "        {\n",
    "    M_cinnm: 0.000312863269\n",
    "\n",
    "        }\n",
    "    )\n",
    "#\n",
    "#\n",
    "    R_PAL = Reaction(\"PAL\")\n",
    "    R_PAL.name = \"Phenylalanine Ammonia Lyase Reaction\"\n",
    "    R_PAL.add_metabolites(\n",
    "        {\n",
    "            M_phe__L: -1.0,\n",
    "            M_cinnm: 1.0,\n",
    "            M_nh4: 1.0\n",
    "        }\n",
    "    )\n",
    "    model.add_reactions([R_PAL])\n",
    "    return model"
   ]
  }
 ],
 "metadata": {
  "kernelspec": {
   "display_name": "Python 3",
   "language": "python",
   "name": "python3"
  },
  "language_info": {
   "codemirror_mode": {
    "name": "ipython",
    "version": 3
   },
   "file_extension": ".py",
   "mimetype": "text/x-python",
   "name": "python",
   "nbconvert_exporter": "python",
   "pygments_lexer": "ipython3",
   "version": "3.8.8"
  }
 },
 "nbformat": 4,
 "nbformat_minor": 5
}
