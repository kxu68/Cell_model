{
 "cells": [
  {
   "cell_type": "code",
   "execution_count": null,
   "id": "7720b997",
   "metadata": {},
   "outputs": [],
   "source": [
    "# Tyramine (Tym) reactions\n",
    "\n",
    "# EC Number 4.1.1.25 https://biocyc.org/META/NEW-IMAGE?type=REACTION&object=TYROSINE-DECARBOXYLASE-RXN\n",
    "def tyramine_reaction(model):\n",
    "    import cobra\n",
    "    from cobra import Model, Reaction, Metabolite\n",
    "# add metabolites\n",
    "# \n",
    "    M_tyr = model.metabolites.get_by_id(\"tyr__L_c\")\n",
    "    M_h = model.metabolites.get_by_id(\"h_c\")\n",
    "    M_co2 = model.metabolites.get_by_id(\"co2_c\")\n",
    "    M_tym = Metabolite(\n",
    "        \"tym_c\",\n",
    "        formula=\"C8H12NO\",\n",
    "        name=\"Tyramine\",\n",
    "        compartment=\"c\"\n",
    "    )\n",
    "# add metabolite to biomass    \n",
    "#     \n",
    "    R_biomass = model.reactions.get_by_id(\"BIOMASS_Ec_iML1515_WT_75p37M\")\n",
    "    R_biomass.add_metabolites(\n",
    "        {\n",
    "    M_tym: 0.0000249972208533333\n",
    "\n",
    "        }\n",
    "    )\n",
    "# add reactions\n",
    "#\n",
    "    R_TDC = Reaction(\"TDC\")\n",
    "    R_TDC.name = \"Tyrosine Decarboxylase Reaction\"\n",
    "    R_TDC.add_metabolites(\n",
    "        {\n",
    "            M_tyr: -1.0,\n",
    "            M_h: -1.0,\n",
    "            M_co2: 1.0,\n",
    "            M_tym: 1.0\n",
    "        }\n",
    "    )\n",
    "\n",
    "    model.add_reactions([R_TDC])\n",
    "    return model"
   ]
  }
 ],
 "metadata": {
  "kernelspec": {
   "display_name": "Python 3",
   "language": "python",
   "name": "python3"
  },
  "language_info": {
   "codemirror_mode": {
    "name": "ipython",
    "version": 3
   },
   "file_extension": ".py",
   "mimetype": "text/x-python",
   "name": "python",
   "nbconvert_exporter": "python",
   "pygments_lexer": "ipython3",
   "version": "3.8.8"
  }
 },
 "nbformat": 4,
 "nbformat_minor": 5
}
