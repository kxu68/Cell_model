{
 "cells": [
  {
   "cell_type": "code",
   "execution_count": 5,
   "id": "1562e141",
   "metadata": {},
   "outputs": [
    {
     "ename": "SyntaxError",
     "evalue": "invalid syntax (guanidinoacetate_reaction_function.ipynb, line 46)",
     "output_type": "error",
     "traceback": [
      "Traceback \u001b[1;36m(most recent call last)\u001b[0m:\n",
      "  File \u001b[0;32m\"C:\\Users\\Steve\\anaconda3\\lib\\site-packages\\IPython\\core\\interactiveshell.py\"\u001b[0m, line \u001b[0;32m3437\u001b[0m, in \u001b[0;35mrun_code\u001b[0m\n    exec(code_obj, self.user_global_ns, self.user_ns)\n",
      "  File \u001b[0;32m\"<ipython-input-5-30895fa9ae6c>\"\u001b[0m, line \u001b[0;32m9\u001b[0m, in \u001b[0;35m<module>\u001b[0m\n    from ipynb.fs.full.guanidinoacetate_reaction_function import guanidinoacetate_reaction\n",
      "  File \u001b[0;32m\"<frozen importlib._bootstrap>\"\u001b[0m, line \u001b[0;32m991\u001b[0m, in \u001b[0;35m_find_and_load\u001b[0m\n",
      "  File \u001b[0;32m\"<frozen importlib._bootstrap>\"\u001b[0m, line \u001b[0;32m975\u001b[0m, in \u001b[0;35m_find_and_load_unlocked\u001b[0m\n",
      "  File \u001b[0;32m\"<frozen importlib._bootstrap>\"\u001b[0m, line \u001b[0;32m671\u001b[0m, in \u001b[0;35m_load_unlocked\u001b[0m\n",
      "  File \u001b[0;32m\"<frozen importlib._bootstrap_external>\"\u001b[0m, line \u001b[0;32m779\u001b[0m, in \u001b[0;35mexec_module\u001b[0m\n",
      "\u001b[1;36m  File \u001b[1;32m\"C:\\Users\\Steve\\anaconda3\\lib\\site-packages\\ipynb\\fs\\full\\__init__.py\"\u001b[1;36m, line \u001b[1;32m43\u001b[1;36m, in \u001b[1;35mget_code\u001b[1;36m\u001b[0m\n\u001b[1;33m    return self.source_to_code(code_from_ipynb(nb), self.path)\u001b[0m\n",
      "\u001b[1;36m  File \u001b[1;32m\"C:\\Users\\Steve\\iML1515\\guanidinoacetate_reaction_function.ipynb\"\u001b[1;36m, line \u001b[1;32m46\u001b[0m\n\u001b[1;33m    \"        }\\n\",\u001b[0m\n\u001b[1;37m    ^\u001b[0m\n\u001b[1;31mSyntaxError\u001b[0m\u001b[1;31m:\u001b[0m invalid syntax\n"
     ]
    }
   ],
   "source": [
    "import cobra\n",
    "#initial setup for the origin model\n",
    "# global model\n",
    "# model_origin= cobra.io.read_sbml_model('iML1515.xml')\n",
    "#introducing functions to addin reactions and metabolites and biomass reaction changes.\n",
    "#1\n",
    "from ipynb.fs.full.f1p_reaction_function import f1p_reaction\n",
    "from ipynb.fs.full.urocanate_reaction_function import urocanate_reaction\n",
    "from ipynb.fs.full.guanidinoacetate_reaction_function import guanidinoacetate_reaction\n",
    "from ipynb.fs.full.tyramine_reaction_function import tyramine_reaction\n",
    "from ipynb.fs.full.trans_cinnamate_reaction_function import trans_cinnamate_function\n",
    "from ipynb.fs.full.glucosamine_reaction_function import glucosamine_function\n",
    "from ipynb.fs.full.myo_inositol_reaction_function import myo_inositol_function\n",
    "# for python import change from ipynb.fs.full directly to the py file name(such as f1p_reaction_function)\n",
    "\n",
    "model= cobra.io.read_sbml_model('iML1515.xml')"
   ]
  },
  {
   "cell_type": "code",
   "execution_count": null,
   "id": "c510a5f2",
   "metadata": {
    "scrolled": true
   },
   "outputs": [],
   "source": [
    "#first reaction import \n",
    "f1p= f1p_reaction(model)\n",
    "f1p"
   ]
  },
  {
   "cell_type": "code",
   "execution_count": 3,
   "id": "107545da",
   "metadata": {},
   "outputs": [],
   "source": [
    "#second reacyion import\n",
    "urcan=urocanate_reaction(f1p)\n",
    "urcan"
   ]
  },
  {
   "cell_type": "code",
   "execution_count": null,
   "id": "e1bed8fa",
   "metadata": {},
   "outputs": [],
   "source": [
    "#third reaction import\n",
    "gudac=guanidinoacetate_reaction(urcan)\n",
    "gudac"
   ]
  },
  {
   "cell_type": "code",
   "execution_count": null,
   "id": "d28c96f4",
   "metadata": {},
   "outputs": [],
   "source": [
    "#fourth reaction import\n",
    "tym=tyramine_reaction(gudac)\n",
    "tym"
   ]
  },
  {
   "cell_type": "code",
   "execution_count": null,
   "id": "4652d412",
   "metadata": {},
   "outputs": [],
   "source": [
    "#fifth reaction import\n",
    "cinnm=trans_cinnamate_function(tym)\n",
    "cinnm"
   ]
  },
  {
   "cell_type": "code",
   "execution_count": null,
   "id": "abb879f0",
   "metadata": {},
   "outputs": [],
   "source": [
    "#sixth reaction import\n",
    "gam=glucosamine_function(cinnm)\n",
    "gam"
   ]
  },
  {
   "cell_type": "code",
   "execution_count": null,
   "id": "6426c6b3",
   "metadata": {},
   "outputs": [],
   "source": [
    "#seventh reaction import\n",
    "inost=myo_inositol_function(gam)\n",
    "inost"
   ]
  },
  {
   "cell_type": "code",
   "execution_count": 4,
   "id": "ee512a0f",
   "metadata": {},
   "outputs": [],
   "source": [
    "#third reaction import\n",
    "#third reaction import\n",
    "#third reaction import\n",
    "#third reaction import\n",
    "#third reaction import\n",
    "#third reaction import\n",
    "#third reaction import\n",
    "#third reaction import\n",
    "#third reaction import"
   ]
  },
  {
   "cell_type": "code",
   "execution_count": null,
   "id": "bb862dc0",
   "metadata": {},
   "outputs": [],
   "source": [
    "#third reaction import"
   ]
  }
 ],
 "metadata": {
  "kernelspec": {
   "display_name": "Python 3",
   "language": "python",
   "name": "python3"
  },
  "language_info": {
   "codemirror_mode": {
    "name": "ipython",
    "version": 3
   },
   "file_extension": ".py",
   "mimetype": "text/x-python",
   "name": "python",
   "nbconvert_exporter": "python",
   "pygments_lexer": "ipython3",
   "version": "3.8.8"
  }
 },
 "nbformat": 4,
 "nbformat_minor": 5
}
