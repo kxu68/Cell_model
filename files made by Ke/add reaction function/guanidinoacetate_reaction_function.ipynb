{
 "cells": [
  {
   "cell_type": "code",
   "execution_count": null,
   "id": "91623f21",
   "metadata": {},
   "outputs": [],
   "source": [
    "# guanidinoacetate reaction\n",
    "\n",
    "# EC number 2.1.4.1 https://biocyc.org/META/NEW-IMAGE?type=REACTION&object=GLYCINE-AMIDINOTRANSFERASE-RXN\n",
    "def guanidinoacetate_reaction(model):\n",
    "    import cobra\n",
    "    from cobra import Model, Reaction, Metabolite\n",
    "# add metabolites\n",
    "# \n",
    "    M_arg__L = model.metabolites.get_by_id(\"arg__L_c\")\n",
    "    M_gly = model.metabolites.get_by_id(\"gly_c\")\n",
    "    M_gudac = Metabolite(\n",
    "        \"guanidinoacetate_c\",\n",
    "        formula=\"C3H7N3O2\",\n",
    "        name=\"guanidinoacetate\",\n",
    "        compartment=\"c\"\n",
    "    )\n",
    "    M_orn = model.metabolites.get_by_id(\"orn_c\")\n",
    "# add metabolite to biomass    \n",
    "#     \n",
    "    R_biomass = model.reactions.get_by_id(\"BIOMASS_Ec_iML1515_WT_75p37M\")\n",
    "    R_biomass.add_metabolites(\n",
    "        {\n",
    "    M_gudac: 0.00001348169698\n",
    "\n",
    "        }\n",
    "    )\n",
    "# add reactions \n",
    "# MetaNetX (MNX) Equation: MNXR100312  EC Number: 2.1.4.1\n",
    "    R_GLYAMDTR = Reaction(\"GLYAMDTR\")\n",
    "    R_GLYAMDTR.name = \"Glycine Amidinotransferase Rxn\"\n",
    "    R_GLYAMDTR.add_metabolites(\n",
    "        {\n",
    "            M_arg__L: -1.0,\n",
    "            M_gly: -1.0,\n",
    "            M_gudac: 1.0,\n",
    "            M_orn:1.0\n",
    "        }\n",
    "    )\n",
    "\n",
    "    model.add_reactions([R_GLYAMDTR]\n",
    "    return model"
   ]
  }
 ],
 "metadata": {
  "kernelspec": {
   "display_name": "Python 3",
   "language": "python",
   "name": "python3"
  },
  "language_info": {
   "codemirror_mode": {
    "name": "ipython",
    "version": 3
   },
   "file_extension": ".py",
   "mimetype": "text/x-python",
   "name": "python",
   "nbconvert_exporter": "python",
   "pygments_lexer": "ipython3",
   "version": "3.8.8"
  }
 },
 "nbformat": 4,
 "nbformat_minor": 5
}
