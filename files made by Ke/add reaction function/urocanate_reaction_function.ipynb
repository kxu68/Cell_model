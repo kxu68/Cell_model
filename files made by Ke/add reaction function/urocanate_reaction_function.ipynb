{
 "cells": [
  {
   "cell_type": "code",
   "execution_count": 2,
   "id": "6e44c4fa",
   "metadata": {},
   "outputs": [],
   "source": [
    "# urocanate reactions\n",
    "def urocanate_reaction(model):\n",
    "    import cobra\n",
    "    from cobra import Model, Reaction, Metabolite\n",
    "#     get the existing metabolites or creat new ones in the model\n",
    "    M_his__L = model.metabolites.get_by_id('his__L_c')\n",
    "    M_nh4 = model.metabolites.get_by_id('nh4_c')\n",
    "    M_urcan = Metabolite(\n",
    "        'urocanate_c',\n",
    "        formula = 'C6H5N2O2',\n",
    "        name = 'urocanate',\n",
    "        compartment = 'c')\n",
    "#     add metabolites inside the biomass function\n",
    "    R_biomass = model.reactions.get_by_id(\"BIOMASS_Ec_iML1515_WT_75p37M\")\n",
    "    R_biomass.add_metabolites(\n",
    "        {\n",
    "    M_urocan: 0.000291950497833333\n",
    "\n",
    "        }\n",
    "    )\n",
    "#     create the reaction  and add metabolites inside\n",
    "# Unification Links: BRENDA:4.3.1.3, ENZYME:4.3.1.3, IUBMB-ExplorEnz:4.3.1.3\n",
    "    R_HAL = Reaction('HAL')\n",
    "    R_HAL.name = 'Histidine Ammonia-lyase Reaction'\n",
    "    R_HAL.add_metabolites({\n",
    "        M_his__L: -1.0,\n",
    "        M_nh4: 1.0,\n",
    "        M_urcan: 1.0})\n",
    "\n",
    "    model.add_reactions([R_HAL])\n",
    "    return model\n",
    "#     cobra.io.sbml.write_sbml_model(model,'iML1515_urocan_reaction.xml')\n",
    "    #"
   ]
  },
  {
   "cell_type": "code",
   "execution_count": 3,
   "id": "0aa0cc81",
   "metadata": {},
   "outputs": [],
   "source": [
    "# import cobra\n",
    "# from cobra import Model, Reaction, Metabolite\n",
    "# model= cobra.io.read_sbml_model('iML1515.xml')\n",
    "# urocanate_reaction(model)"
   ]
  },
  {
   "cell_type": "code",
   "execution_count": null,
   "id": "e0976d1f",
   "metadata": {},
   "outputs": [],
   "source": []
  }
 ],
 "metadata": {
  "kernelspec": {
   "display_name": "Python 3",
   "language": "python",
   "name": "python3"
  },
  "language_info": {
   "codemirror_mode": {
    "name": "ipython",
    "version": 3
   },
   "file_extension": ".py",
   "mimetype": "text/x-python",
   "name": "python",
   "nbconvert_exporter": "python",
   "pygments_lexer": "ipython3",
   "version": "3.8.8"
  }
 },
 "nbformat": 4,
 "nbformat_minor": 5
}
