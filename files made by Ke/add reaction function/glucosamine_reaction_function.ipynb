{
 "cells": [
  {
   "cell_type": "code",
   "execution_count": null,
   "id": "b80cf412",
   "metadata": {},
   "outputs": [],
   "source": [
    "# glucosamine (gam) reactions\n",
    "# EC Number 3.1.3.- https://metacyc.org/META/NEW-IMAGE?type=REACTION&object=RXN-17745\n",
    "def glucosamine_reaction(model):\n",
    "    import cobra\n",
    "    from cobra import Model, Reaction, Metabolite\n",
    "# add metabolites\n",
    "# \n",
    "    M_gam6p = model.metabolites.get_by_id(\"gam6p_c\")\n",
    "    M_h2o = model.metabolites.get_by_id(\"h2o_c\")\n",
    "    M_gam = model.metabolites.get_by_id(\"gam_c\")\n",
    "    M_pi = model.metabolites.get_by_id(\"pi_c\")\n",
    "# add metabolite to biomass    \n",
    "#     \n",
    "    R_biomass = model.reactions.get_by_id(\"BIOMASS_Ec_iML1515_WT_75p37M\")\n",
    "    R_biomass.add_metabolites(\n",
    "        {\n",
    "    M_gam: 0.000137252098233333\n",
    "        }\n",
    "    )\n",
    "\n",
    "    R_PPMEH = Reaction(\"PPMEH\")\n",
    "    R_PPMEH.name = \"Phosphoric Monoester Hydrolases Reaction\"\n",
    "    R_PPMEH.add_metabolites(\n",
    "        {\n",
    "            M_gam6p: -1.0,\n",
    "            M_h2o: -1.0,\n",
    "            M_gam: 1.0,\n",
    "            M_pi: 1.0\n",
    "        }\n",
    "    )\n",
    "\n",
    "    model.add_reactions([R_PPMEH])\n",
    "    return model"
   ]
  }
 ],
 "metadata": {
  "kernelspec": {
   "display_name": "Python 3",
   "language": "python",
   "name": "python3"
  },
  "language_info": {
   "codemirror_mode": {
    "name": "ipython",
    "version": 3
   },
   "file_extension": ".py",
   "mimetype": "text/x-python",
   "name": "python",
   "nbconvert_exporter": "python",
   "pygments_lexer": "ipython3",
   "version": "3.8.8"
  }
 },
 "nbformat": 4,
 "nbformat_minor": 5
}
